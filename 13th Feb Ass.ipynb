{
 "cells": [
  {
   "cell_type": "code",
   "execution_count": null,
   "id": "63dad8af-b114-449b-aa6b-93de508f0274",
   "metadata": {},
   "outputs": [],
   "source": [
    "# ANSWER-1)By using the Exception class as the base class for your custom exception, you ensure that your exception is compatible with the standard exception handling mechanisms in the language or framework you are using. This makes it easier for other developers to understand and work with your code, and helps to ensure that your code is robust and reliable in the face of unexpected errors or exceptional situations"
   ]
  },
  {
   "cell_type": "code",
   "execution_count": 1,
   "id": "312e53e4-31c5-4721-9c27-c3258d397fdd",
   "metadata": {},
   "outputs": [],
   "source": [
    "# # ANSWER-2)The class hierarchy for built-in exceptions is:\n",
    "# BaseException\n",
    "# ... Exception\n",
    "# ...... StandardError\n",
    "# ......... TypeError\n",
    "# ......... ImportError\n",
    "# ............ ZipImportError\n",
    "# ......... EnvironmentError\n",
    "# ............ IOError\n",
    "# ............ OSError\n",
    "# ............... WindowsError\n",
    "# ......... EOFError\n",
    "# ......... RuntimeError\n",
    "# ............ NotImplementedError\n",
    "# ......... NameError\n",
    "# ............ UnboundLocalError\n",
    "# ......... AttributeError\n",
    "# ......... SyntaxError\n",
    "# ............ IndentationError\n",
    "# ............... TabError\n",
    "# ......... LookupError\n",
    "# ............ IndexError\n",
    "# ............ KeyError\n",
    "# ............ CodecRegistryError\n",
    "# ......... ValueError\n",
    "# ............ UnicodeError\n",
    "# ............... UnicodeEncodeError\n",
    "# ............... UnicodeDecodeError\n",
    "# ............... UnicodeTranslateError\n",
    "# ......... AssertionError\n",
    "# ......... ArithmeticError\n",
    "# ............ FloatingPointError\n",
    "# ............ OverflowError\n",
    "# ............ ZeroDivisionError\n",
    "# ......... SystemError\n",
    "# ............ CodecRegistryError\n",
    "# ......... ReferenceError\n",
    "# ......... MemoryError\n",
    "# ......... BufferError\n",
    "# ...... StopIteration\n",
    "# ...... Warning\n",
    "# ......... UserWarning\n",
    "# ......... DeprecationWarning\n",
    "# ......... PendingDeprecationWarning\n",
    "# ......... SyntaxWarning\n",
    "# ......... RuntimeWarning\n",
    "# ......... FutureWarning\n",
    "# ......... ImportWarning\n",
    "# ......... UnicodeWarning\n",
    "# ......... BytesWarning\n",
    "# ...... _OptionError\n",
    "# ...... error\n",
    "# ...... Error\n",
    "# ...... TokenError\n",
    "# ...... StopTokenizing\n",
    "# ...... error\n",
    "# ...... EndOfBlock\n",
    "# ... GeneratorExit\n",
    "# ... SystemExit\n",
    "# ... KeyboardInterrupt"
   ]
  },
  {
   "cell_type": "code",
   "execution_count": 2,
   "id": "00c17bff-d043-47bc-81e2-b27b20ca933c",
   "metadata": {},
   "outputs": [],
   "source": [
    "# ANSWER-3)ArithmeticError is simply an error that occurs during numeric calculations. \n",
    "# ArithmeticError types in Python include: OverFlowError. ZeroDivisionError.\n",
    "import logging\n",
    "logging.basicConfig(filename = 'error.log' , level = logging.ERROR)\n",
    "try :\n",
    "    10/0\n",
    "except ZeroDivisionError as e :\n",
    "    logging.error('i am try to handle a zerodivision error {}'.format(e))\n",
    "    \n",
    "    "
   ]
  },
  {
   "cell_type": "code",
   "execution_count": 3,
   "id": "6fb51f48-3a55-492d-8583-2e5ea0c3116b",
   "metadata": {},
   "outputs": [
    {
     "name": "stdout",
     "output_type": "stream",
     "text": [
      "0 3.0\n",
      "1 9.0\n",
      "2 81.0\n",
      "3 6561.0\n",
      "4 43046721.0\n",
      "5 1853020188851841.0\n",
      "6 3.4336838202925124e+30\n",
      "7 1.1790184577738583e+61\n",
      "8 1.3900845237714473e+122\n",
      "9 1.9323349832288915e+244\n",
      "Overflowed after  1.9323349832288915e+244 (34, 'Numerical result out of range')\n"
     ]
    }
   ],
   "source": [
    "i=1\n",
    "try:\n",
    "    f = 3.0**i\n",
    "    for i in range(100):\n",
    "        print(i, f)\n",
    "        f = f ** 2\n",
    "except OverflowError as err:\n",
    "    \n",
    "    print('Overflowed after ', f, err)"
   ]
  },
  {
   "cell_type": "code",
   "execution_count": 1,
   "id": "47118a58-2947-4a1b-a4ee-d08c092110bf",
   "metadata": {},
   "outputs": [],
   "source": [
    "# ANSWER-4)LookupError Exception is the Base class for errors raised when something can't be found.\n",
    "import logging\n",
    "logging.basicConfig(filename='indexerror.log' , level= logging.ERROR)\n",
    "try :\n",
    "    l=[1,2,3,4,5]\n",
    "    logging.error(l[5])\n",
    "except IndexError as e:\n",
    "    logging.error('i will try to handle indexerror {} '.format(e))"
   ]
  },
  {
   "cell_type": "code",
   "execution_count": 1,
   "id": "017f4af8-3370-4695-8094-0944b934d4a1",
   "metadata": {},
   "outputs": [],
   "source": [
    "import logging\n",
    "\n",
    "logging.basicConfig(filename='keyerror.log', level=logging.ERROR)\n",
    "\n",
    "dic = {'name': 'vishal', 'branch': 'electrical engineering', 'passout': '2021'}\n",
    "key = 'roll'\n",
    "\n",
    "if key in dic:\n",
    "    logging.error(f'{key} is {dic[key]}')\n",
    "else:\n",
    "    logging.error(f'{key} does not exist in the dictionary')"
   ]
  },
  {
   "cell_type": "code",
   "execution_count": 6,
   "id": "41b45a3e-eb52-4911-bcb8-19dfece57bd1",
   "metadata": {},
   "outputs": [],
   "source": [
    "# ANSWER-5)In Python, ImportError occurs when the Python program tries to import module which does not exist in the private table.\n",
    "#  As the name implies, this error occurs when you're trying to access or use a module that cannot be found"
   ]
  },
  {
   "cell_type": "code",
   "execution_count": null,
   "id": "e34961c6-9cb0-484e-bbb4-e3f5b3728b3e",
   "metadata": {},
   "outputs": [],
   "source": [
    "# ANSWER-6)\n",
    "# 1)Log exceptions: Log the exceptions in a file or database so that you can easily debug them later.\n",
    "# 2)Don't catch all exceptions: Don't catch all exceptions in your code, as this can lead to hard-to-debug problems.\n",
    "# 3)Reraise exceptions: If you catch an exception but can't handle it, re-raise it so that it can be handled further up the call stack.\n",
    "# 4)Use context managers: Use context managers, such as the with statement, to ensure that resources are properly managed and released, even in the event of an exception."
   ]
  }
 ],
 "metadata": {
  "kernelspec": {
   "display_name": "Python 3 (ipykernel)",
   "language": "python",
   "name": "python3"
  },
  "language_info": {
   "codemirror_mode": {
    "name": "ipython",
    "version": 3
   },
   "file_extension": ".py",
   "mimetype": "text/x-python",
   "name": "python",
   "nbconvert_exporter": "python",
   "pygments_lexer": "ipython3",
   "version": "3.10.8"
  }
 },
 "nbformat": 4,
 "nbformat_minor": 5
}
